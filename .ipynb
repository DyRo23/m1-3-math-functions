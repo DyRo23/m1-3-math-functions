{
 "cells": [
  {
   "cell_type": "markdown",
   "metadata": {
    "colab_type": "text",
    "id": "aX9oCHrXqhIj"
   },
   "source": [
    "# 1. Math Drills\n",
    "\n",
    "Give an example of a binary relation on a set which is\n",
    "\n",
    "1. Reflexive and symmetric, but not transitive  \n",
    "2. Reflexive, but neither symmetric nor transitive  \n",
    "3. Symmetric, but neither reflexive nor transitive  \n",
    "4. Transitive, but neither reflexive nor symmetric  \n",
    "\n",
    "Recall the definitions from the lectures if you need to!"
   ]
  },
  {
   "cell_type": "markdown",
   "metadata": {},
   "source": [
    "1. set {1,2,3} / R = {(1,1), (2,2), (3,3), (1,2),(2,1), (2,3), (3,2)}\n",
    "\n",
    "set [1,2,3,4]\n",
    "\n",
    "2. {(1,1),(1,4),(2,2),(3,3),(3,4)}\n",
    "\n",
    "3.{(1,1),(2,4),(3,3),(4,2)}\n",
    "\n",
    "4. {(1,1), (1,2), (2,1), (2,2), (4,1), (4,2), (4,4) } "
   ]
  },
  {
   "cell_type": "markdown",
   "metadata": {},
   "source": [
    "# Exercise 2: A bunch of Math!\n",
    "\n",
    "## Polynomial\n",
    "\n",
    "Consider the polynomial\n",
    "\n",
    "$$\n",
    "p(x)\n",
    "= a_0 + a_1 x + a_2 x^2 + \\cdots a_n x^n\n",
    "= \\sum_{i=0}^n a_i x^i \\tag{1}\n",
    "$$\n",
    "\n",
    "Write a function `p` such that `p(x, coeff)` that computes the value in given a point `x` and a list of coefficients `coeff`.\n",
    "\n",
    "```\n",
    "p(5, [1, 1]) = 1 + 5 = 6\n",
    "p(5, [2, 1, 1]) = 2 + 5 + 25 = 32\n",
    "```"
   ]
  },
  {
   "cell_type": "code",
   "execution_count": 8,
   "metadata": {},
   "outputs": [],
   "source": [
    "import numpy as np\n",
    "from numpy.random import uniform "
   ]
  },
  {
   "cell_type": "code",
   "execution_count": null,
   "metadata": {},
   "outputs": [],
   "source": [
    "def p(x,coeff):\n",
    "    results = 0\n",
    "    for i in range (len(coeff)):\n",
    "        results += coeff[i] * x**i\n",
    "    return result"
   ]
  },
  {
   "cell_type": "code",
   "execution_count": null,
   "metadata": {},
   "outputs": [],
   "source": [
    "p(5,[1,1])\n",
    "\n",
    "p(5,[2, 1, 1])"
   ]
  },
  {
   "cell_type": "markdown",
   "metadata": {},
   "source": [
    "# Variance\n",
    "\n",
    "Define a function named `var` that takes a list of numbers and computes the variance. The variance is:\n",
    "\n",
    "$$variance(x) = \\frac{∑_i^N(x_i − average(x))^2}{N-1}$$\n",
    "\n",
    "Don't cheat and use `numpy.var`! You should only use that function to test that your function is correct"
   ]
  },
  {
   "cell_type": "code",
   "execution_count": null,
   "metadata": {},
   "outputs": [],
   "source": [
    "x = [4,8,6,5,3,2,8,9,2,5]\n",
    "\n",
    "def var(l1):\n",
    "    n = len(l1)\n",
    "    mean = sum(l1)/n\n",
    "    deviations = [(x - mean)** 2 for x in l1]\n",
    "    variance = sum(deviations) /n\n",
    "    return variance"
   ]
  },
  {
   "cell_type": "code",
   "execution_count": null,
   "metadata": {},
   "outputs": [],
   "source": [
    "x = [4,8,6,5,3,2,8,9,2,5]\n",
    "var(x)"
   ]
  },
  {
   "cell_type": "markdown",
   "metadata": {},
   "source": [
    "# RMSE\n",
    "\n",
    "Calculate the root mean squared error (RMSE) of a machine learning model's output. The function takes in two lists: one with actual values, one with predictions. The formula for RMSE is:\n",
    "\n",
    "$$RMSE(y_1, y_2) = \\sqrt{\\dfrac{1}{N} \\sum_{i=1}^N (y_{1i} - y_{2i})^2}$$\n",
    "\n",
    "```\n",
    "    rmse([1, 2], [1, 2]) = 0\n",
    "    rmse([1, 2, 3], [3, 2, 1]) = 1.63\n",
    "```\n",
    "\n",
    "You can use \n",
    "\n",
    "```\n",
    "sklearn.metrics.mean_squared_error(y_actual, y_predicted, squared=False)\n",
    "```\n",
    "\n",
    "To test your function"
   ]
  },
  {
   "cell_type": "code",
   "execution_count": null,
   "metadata": {},
   "outputs": [],
   "source": [
    "def rmse(v,p):\n",
    "    v = np.array(v)\n",
    "    p = np.array(p)\n",
    "    return(np.sqrt(((v-p) ** 2).mean()))"
   ]
  },
  {
   "cell_type": "markdown",
   "metadata": {},
   "source": [
    "# Jaccard Similarity\n",
    "\n",
    "The Jaccard similarity between two sets is the size of intersection divided by the size of union. Write a function that computes it:\n",
    "\n",
    "$$jaccard(A, B) = \\dfrac{|A \\cap B|}{|A \\cup B|}$$\n",
    "\n",
    "\n",
    "```\n",
    "jaccard({'a', 'b', 'c'}, {'a', 'd'}) = 1 / 4\n",
    "```\n",
    "\n"
   ]
  },
  {
   "cell_type": "code",
   "execution_count": null,
   "metadata": {},
   "outputs": [],
   "source": [
    "def jaccard_similarity(list1, list2):\n",
    "    intersection = len(list(set(list1).intersection(list2)))\n",
    "    union = (len(list1)+len(list2)) - intersection\n",
    "    return float(intersection) / union"
   ]
  },
  {
   "cell_type": "markdown",
   "metadata": {},
   "source": [
    "# Exercise 3\n",
    "\n",
    "First, write a function that returns one realization of the following random device\n",
    "\n",
    "1. Flip an unbiased coin 10 times.  \n",
    "1. If a head occurs `k` or more times consecutively within this sequence at least once, pay one dollar.  \n",
    "1. If not, pay nothing.  \n",
    "\n",
    "\n",
    "Second, write another function that does the same task except that the second rule of the above random device becomes\n",
    "\n",
    "- If a head occurs `k` or more times within this sequence, pay one dollar.  \n",
    "\n",
    "\n",
    "Use no import besides `from numpy.random import uniform`."
   ]
  },
  {
   "cell_type": "code",
   "execution_count": 9,
   "metadata": {},
   "outputs": [],
   "source": [
    "def fe3(k):\n",
    "    x = 0\n",
    "    y = 0\n",
    "    \n",
    "    for i in range(10):\n",
    "        u = uniform()\n",
    "        if u < 0.5:\n",
    "            x +=1\n",
    "        else:\n",
    "            x = 0\n",
    "        if x == k:\n",
    "            y +=1\n",
    "    return y "
   ]
  },
  {
   "cell_type": "code",
   "execution_count": 10,
   "metadata": {},
   "outputs": [
    {
     "data": {
      "text/plain": [
       "2"
      ]
     },
     "execution_count": 10,
     "metadata": {},
     "output_type": "execute_result"
    }
   ],
   "source": [
    "fe3(1)"
   ]
  },
  {
   "cell_type": "code",
   "execution_count": null,
   "metadata": {},
   "outputs": [],
   "source": [
    "def fe32(k):\n",
    "    x = 0\n",
    "    y = 0\n",
    "    \n",
    "    for i in range(10):\n",
    "        u = uniform()\n",
    "            x += (1 if u < 0.5 else 0)\n",
    "        if x == k:\n",
    "            y +=1\n",
    "    return y         "
   ]
  },
  {
   "cell_type": "markdown",
   "metadata": {},
   "source": [
    "# Exercise 4: Logistic Map fixed point\n",
    "\n",
    "The **Logistic Map** is a famous function from Chaos Theory which is defined as:\n",
    "\n",
    "$$x_{t+1} = r \\cdot x_t(1−x_t)$$\n",
    "\n",
    "with the conditions:\n",
    "\n",
    "$$x_0 ∈ [0,1], r ∈[0,4]$$\n",
    "\n",
    "Write a lambda $f = logistic(x, r)$, that's successively applied to itself $n$ times through a second function `logistic_n_times(x0, f, r, n)` with the inital point $X_0$\n",
    "\n",
    "Make a few runs of this for various values of `x0` and `r`. Answer the following:\n",
    "\n",
    "- Can you find a fixed point? \n",
    "\n",
    "- At what values of `r` are there fixed points? \n",
    "\n",
    "- Are there any ranges of input for which the function is an attractor?"
   ]
  },
  {
   "cell_type": "code",
   "execution_count": null,
   "metadata": {},
   "outputs": [],
   "source": [
    "f = lambda x,r : r * x * 1 *(-x)\n",
    "\n",
    "def logistic_n_times(x0, f ,r ,n):\n",
    "    for z in range(n):\n",
    "        x0 = f(x0, r)\n",
    "        return x0"
   ]
  },
  {
   "cell_type": "markdown",
   "metadata": {},
   "source": [
    "# Exercise 5 (stretch): Famous Chaos Theory Plot \n",
    "\n",
    "There is a famous plot in chaos theory of the logistic map that relates values of the attractors in $x_t$ for values of $r$, detailing where the function tends to \"end up\" for each value of $r$.\n",
    "\n",
    "<img src=\"logistic map.png\" style=\"width: 400px;\">\n",
    "\n",
    "Reproduce this plot using the `matplotlib` package.\n",
    "\n",
    "**Hint:** Produce samples from the function to fill arrays on the x and y axis!\n",
    "\n",
    "**Hint:** Take the final 50 values in a series of data points produced by the function!"
   ]
  }
 ],
 "metadata": {
  "colab": {
   "authorship_tag": "ABX9TyO6ouX4mUPsrtNoh84NFVy3",
   "collapsed_sections": [],
   "name": "Workshop Functions.ipynb",
   "provenance": []
  },
  "kernelspec": {
   "display_name": "Python 3",
   "language": "python",
   "name": "python3"
  },
  "language_info": {
   "codemirror_mode": {
    "name": "ipython",
    "version": 3
   },
   "file_extension": ".py",
   "mimetype": "text/x-python",
   "name": "python",
   "nbconvert_exporter": "python",
   "pygments_lexer": "ipython3",
   "version": "3.8.3"
  }
 },
 "nbformat": 4,
 "nbformat_minor": 1
}
